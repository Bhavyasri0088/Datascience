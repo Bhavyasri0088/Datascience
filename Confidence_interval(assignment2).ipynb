{
  "nbformat": 4,
  "nbformat_minor": 0,
  "metadata": {
    "colab": {
      "provenance": []
    },
    "kernelspec": {
      "name": "python3",
      "display_name": "Python 3"
    },
    "language_info": {
      "name": "python"
    }
  },
  "cells": [
    {
      "cell_type": "markdown",
      "source": [
        "\n",
        "\n",
        "Data\n",
        "\n",
        "A total of 15 print-heads were randomly selected and tested until failure. The durability of each print-head (in millions of characters) was recorded as follows:\n",
        "1.13, 1.55, 1.43, 0.92, 1.25, 1.36, 1.32, 0.85, 1.07, 1.48, 1.20, 1.33, 1.18, 1.22, 1.29\n",
        "\n"
      ],
      "metadata": {
        "id": "bOTMhx69jOgy"
      }
    },
    {
      "cell_type": "markdown",
      "source": [
        "a. Build 99% Confidence Interval Using Sample Standard Deviation\n",
        "Assuming the sample is representative of the population, construct a 99% confidence interval for the mean number of characters printed before the print-head fails using the sample standard deviation. Explain the steps you take and the rationale behind using the t-distribution for this task."
      ],
      "metadata": {
        "id": "ZB2-lqVvjdVB"
      }
    },
    {
      "cell_type": "code",
      "source": [
        "import numpy as np\n",
        "from scipy import stats"
      ],
      "metadata": {
        "id": "TfCs-K4Zjv1o"
      },
      "execution_count": 1,
      "outputs": []
    },
    {
      "cell_type": "code",
      "source": [
        "data = np.array([1.13, 1.55, 1.43, 0.92, 1.25, 1.36, 1.32, 0.85, 1.07, 1.48, 1.20, 1.33, 1.18, 1.22, 1.29])"
      ],
      "metadata": {
        "id": "pddH0yQdjy5p"
      },
      "execution_count": 2,
      "outputs": []
    },
    {
      "cell_type": "code",
      "source": [
        "sample_mean = np.mean(data)"
      ],
      "metadata": {
        "id": "3Su-NodBj5XO"
      },
      "execution_count": 3,
      "outputs": []
    },
    {
      "cell_type": "code",
      "source": [
        "sample_std = np.std(data, ddof=1)"
      ],
      "metadata": {
        "id": "tVz_4rv9j9Ld"
      },
      "execution_count": 4,
      "outputs": []
    },
    {
      "cell_type": "code",
      "source": [
        "n=len(data)\n",
        "std_error = sample_std / np.sqrt(n)"
      ],
      "metadata": {
        "id": "wnY0JM5OkBvX"
      },
      "execution_count": 7,
      "outputs": []
    },
    {
      "cell_type": "code",
      "source": [
        "alpha = 0.01\n",
        "degrees_of_freedom = n-1\n",
        "critical_value = stats.t.ppf(1 - alpha / 2, degrees_of_freedom)"
      ],
      "metadata": {
        "id": "5nNGqAsJkGch"
      },
      "execution_count": 6,
      "outputs": []
    },
    {
      "cell_type": "code",
      "source": [
        "margin_of_error = critical_value * std_error"
      ],
      "metadata": {
        "id": "f3thZ9ygkO1b"
      },
      "execution_count": 8,
      "outputs": []
    },
    {
      "cell_type": "code",
      "source": [
        "lower_bound = sample_mean - margin_of_error\n",
        "upper_bound = sample_mean + margin_of_error\n"
      ],
      "metadata": {
        "id": "x2Uqw-yZkc-g"
      },
      "execution_count": 9,
      "outputs": []
    },
    {
      "cell_type": "code",
      "source": [
        "print(f\"Sample Mean: {sample_mean:.4f}\")\n",
        "print(f\"Sample Standard Deviation: {sample_std:.4f}\")\n",
        "print(f\"Standard Error: {std_error:.4f}\")\n",
        "print(f\"Critical Value: {critical_value:.4f}\")\n",
        "print(f\"Margin of Error: {margin_of_error:.4f}\")\n",
        "print(f\"99% Confidence Interval: [{lower_bound:.4f}, {upper_bound:.4f}]\")"
      ],
      "metadata": {
        "colab": {
          "base_uri": "https://localhost:8080/"
        },
        "id": "jBQZm2WBkkA5",
        "outputId": "8e7e089c-a937-41ea-de64-a816dc500653"
      },
      "execution_count": 10,
      "outputs": [
        {
          "output_type": "stream",
          "name": "stdout",
          "text": [
            "Sample Mean: 1.2387\n",
            "Sample Standard Deviation: 0.1932\n",
            "Standard Error: 0.0499\n",
            "Critical Value: 2.9768\n",
            "Margin of Error: 0.1485\n",
            "99% Confidence Interval: [1.0902, 1.3871]\n"
          ]
        }
      ]
    },
    {
      "cell_type": "markdown",
      "source": [
        "b. Build 99% Confidence Interval Using Known Population Standard Deviation\n",
        "If it were known that the population standard deviation is 0.2 million characters, construct a 99% confidence interval for the mean number of characters printed before failure."
      ],
      "metadata": {
        "id": "oLumpVP7lUej"
      }
    },
    {
      "cell_type": "code",
      "source": [
        "population_std = 0.2\n",
        "z_critical = stats.norm.ppf(1 - alpha / 2)\n",
        "margin_of_error_z = z_critical * (population_std / np.sqrt(n))"
      ],
      "metadata": {
        "id": "IvrqeHcMlq4E"
      },
      "execution_count": 12,
      "outputs": []
    },
    {
      "cell_type": "code",
      "source": [
        "lower_bound_z = sample_mean - margin_of_error_z\n",
        "upper_bound_z = sample_mean + margin_of_error_z"
      ],
      "metadata": {
        "id": "z4l8VQQ4mUl9"
      },
      "execution_count": 13,
      "outputs": []
    },
    {
      "cell_type": "code",
      "source": [
        "print(f\"Population Standard Deviation: {population_std:.2f}\")\n",
        "print(f\"Z-critical Value: {z_critical:.4f}\")\n",
        "print(f\"Margin of Error (Z): {margin_of_error_z:.4f}\")\n",
        "print(f\"99% Confidence Interval (Z): [{lower_bound_z:.4f}, {upper_bound_z:.4f}]\")\n"
      ],
      "metadata": {
        "colab": {
          "base_uri": "https://localhost:8080/"
        },
        "id": "Ceqf1vg-mRe6",
        "outputId": "18c0abba-6ee6-443d-fede-552cc6a423af"
      },
      "execution_count": 14,
      "outputs": [
        {
          "output_type": "stream",
          "name": "stdout",
          "text": [
            "Population Standard Deviation: 0.20\n",
            "Z-critical Value: 2.5758\n",
            "Margin of Error (Z): 0.1330\n",
            "99% Confidence Interval (Z): [1.1057, 1.3717]\n"
          ]
        }
      ]
    }
  ]
}