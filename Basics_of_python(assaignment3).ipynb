{
  "nbformat": 4,
  "nbformat_minor": 0,
  "metadata": {
    "colab": {
      "provenance": []
    },
    "kernelspec": {
      "name": "python3",
      "display_name": "Python 3"
    },
    "language_info": {
      "name": "python"
    }
  },
  "cells": [
    {
      "cell_type": "markdown",
      "source": [
        "Exercise 1: Prime Numbers\n",
        "\n",
        "Write a Python program that checks whether a given number is prime or not. A prime number is a natural number greater than 1 that has no positive divisors other than 1 and itself."
      ],
      "metadata": {
        "id": "zD3LGHxSokYo"
      }
    },
    {
      "cell_type": "code",
      "source": [
        "def is_prime(n):\n",
        "    \"\"\"Check if a number is a prime number.\"\"\"\n",
        "    # Check if n is less than 2, as 0 and 1 are not prime numbers\n",
        "    if n <= 1:\n",
        "        return False\n",
        "    # Check from 2 up to the square root of n\n",
        "    for i in range(2, int(n**0.5) + 1):\n",
        "        if n % i == 0:\n",
        "            return False\n",
        "    return True\n",
        "\n",
        "# Example usage:\n",
        "number = int(input(\"Enter a number: \"))\n",
        "if is_prime(number):\n",
        "    print(f\"{number} is a prime number.\")\n",
        "else:\n",
        "    print(f\"{number} is not a prime number.\")\n"
      ],
      "metadata": {
        "colab": {
          "base_uri": "https://localhost:8080/"
        },
        "id": "KWxPw-fE0zZD",
        "outputId": "811fd708-d4b3-4012-9117-faeb21524c38"
      },
      "execution_count": 8,
      "outputs": [
        {
          "output_type": "stream",
          "name": "stdout",
          "text": [
            "Enter a number: 5\n",
            "5 is a prime number.\n"
          ]
        }
      ]
    },
    {
      "cell_type": "markdown",
      "source": [
        "Exercise 2: Product of Random Numbers\n",
        "Develop a Python program that generates two random numbers and asks the user to enter the product of these numbers. The program should then check if the user's answer is correct and display an appropriate message."
      ],
      "metadata": {
        "id": "RfnbiFRZyBNr"
      }
    },
    {
      "cell_type": "code",
      "source": [
        "import random\n",
        "\n",
        "def main():\n",
        "    # Generate two random numbers between 1 and 10\n",
        "    num1 = random.randint(1, 10)\n",
        "    num2 = random.randint(1, 10)\n",
        "\n",
        "    # Calculate the product of the two numbers\n",
        "    correct_product = num1 * num2\n",
        "\n",
        "    # Ask the user to enter the product\n",
        "    print(f\"Guess the product of {num1} and {num2}:\")\n",
        "    user_answer = int(input(\"Your answer: \"))\n",
        "\n",
        "    # Check if the user's answer is correct\n",
        "    if user_answer == correct_product:\n",
        "        print(\"Congratulations! Your answer is correct.\")\n",
        "    else:\n",
        "        print(f\"Sorry, that's not correct. The correct answer is {correct_product}.\")\n",
        "\n",
        "# Run the main function\n",
        "if __name__ == \"__main__\":\n",
        "    main()\n"
      ],
      "metadata": {
        "colab": {
          "base_uri": "https://localhost:8080/"
        },
        "id": "TJL4qnz2059g",
        "outputId": "8ad05eff-6e63-4914-a870-f0b03077945b"
      },
      "execution_count": 9,
      "outputs": [
        {
          "output_type": "stream",
          "name": "stdout",
          "text": [
            "Guess the product of 3 and 1:\n",
            "Your answer: 3\n",
            "Congratulations! Your answer is correct.\n"
          ]
        }
      ]
    },
    {
      "cell_type": "markdown",
      "source": [
        "Exercise 3: Squares of Even/Odd Numbers\n",
        "Create a Python script that prints the squares of all even or odd numbers within the range of 100 to 200. Choose either even or odd numbers and document your choice in the code."
      ],
      "metadata": {
        "id": "CLtAXcKgykG3"
      }
    },
    {
      "cell_type": "code",
      "source": [
        "# Choose to work with even numbers\n",
        "choice = 'even'\n",
        "\n",
        "def print_squares(choice):\n",
        "    # Define the range\n",
        "    start = 10\n",
        "    end = 20\n",
        "\n",
        "    if choice == 'even':\n",
        "        # Print squares of even numbers in the range\n",
        "        print(\"Squares of even numbers between 100 and 200:\")\n",
        "        for num in range(start, end + 1):\n",
        "            if num % 2 == 0:\n",
        "                print(f\"{num}^2 = {num ** 2}\")\n",
        "    elif choice == 'odd':\n",
        "        # Print squares of odd numbers in the range\n",
        "        print(\"Squares of odd numbers between 100 and 200:\")\n",
        "        for num in range(start, end + 1):\n",
        "            if num % 2 != 0:\n",
        "                print(f\"{num}^2 = {num ** 2}\")\n",
        "    else:\n",
        "        print(\"Invalid choice. Please select 'even' or 'odd'.\")\n",
        "\n",
        "# Run the function with the chosen option\n",
        "print_squares(choice)\n"
      ],
      "metadata": {
        "colab": {
          "base_uri": "https://localhost:8080/"
        },
        "id": "tVrO3GOP1KW0",
        "outputId": "b6e4b18d-113c-4b63-dc0e-501660f65c9c"
      },
      "execution_count": 12,
      "outputs": [
        {
          "output_type": "stream",
          "name": "stdout",
          "text": [
            "Squares of even numbers between 100 and 200:\n",
            "10^2 = 100\n",
            "12^2 = 144\n",
            "14^2 = 196\n",
            "16^2 = 256\n",
            "18^2 = 324\n",
            "20^2 = 400\n"
          ]
        }
      ]
    },
    {
      "cell_type": "markdown",
      "source": [
        "Exercise 4: Word counter\n",
        "\n",
        "write a program to count the number of words in a given text.\n",
        "\n",
        "example:\n",
        "input_text = \"This is a sample text. This text will be used to demonstrate the word counter.\"\n",
        "\n",
        "Expected output:\n",
        "\n",
        "'This': 2\n",
        "\n",
        "'is': 1\n",
        "\n",
        "'a': 1\n",
        "\n",
        "'sample': 1\n",
        "\n",
        "'text.': 1\n"
      ],
      "metadata": {
        "id": "lFn32vUVzMME"
      }
    },
    {
      "cell_type": "code",
      "source": [
        "from collections import Counter\n",
        "import re\n",
        "\n",
        "def word_counter(text):\n",
        "    # Convert text to lowercase to make the count case-insensitive\n",
        "    text = text.lower()\n",
        "\n",
        "    # Use regular expressions to find words (handles punctuation)\n",
        "    words = re.findall(r'\\b\\w+\\b', text)\n",
        "\n",
        "    # Count the occurrences of each word\n",
        "    word_counts = Counter(words)\n",
        "\n",
        "    # Print each word and its count\n",
        "    for word, count in word_counts.items():\n",
        "        print(f\"'{word}': {count}\")\n",
        "\n",
        "# Example usage\n",
        "input_text = \"This is a sample text. This text will be used to demonstrate the word counter.\"\n",
        "word_counter(input_text)\n"
      ],
      "metadata": {
        "colab": {
          "base_uri": "https://localhost:8080/"
        },
        "id": "ywhd67Py1tNz",
        "outputId": "f8b71c4f-aec9-4f40-865a-998a62152c6f"
      },
      "execution_count": 14,
      "outputs": [
        {
          "output_type": "stream",
          "name": "stdout",
          "text": [
            "'this': 2\n",
            "'is': 1\n",
            "'a': 1\n",
            "'sample': 1\n",
            "'text': 2\n",
            "'will': 1\n",
            "'be': 1\n",
            "'used': 1\n",
            "'to': 1\n",
            "'demonstrate': 1\n",
            "'the': 1\n",
            "'word': 1\n",
            "'counter': 1\n"
          ]
        }
      ]
    },
    {
      "cell_type": "markdown",
      "source": [
        "Exercise 5: Check for Palindrome\n",
        "Write a Python function called is_palindrome that takes a string as input and returns True if the string is a palindrome, and False otherwise. A palindrome is a word, phrase, number, or other sequence of characters that reads the same forward and backward, ignoring spaces, punctuation, and capitalization.\n",
        "Example:\n",
        "Input: \"racecar\"\n",
        "Expected Output: True"
      ],
      "metadata": {
        "id": "_NtjhMzmz4R8"
      }
    },
    {
      "cell_type": "code",
      "source": [
        "import re\n",
        "\n",
        "def is_palindrome(s):\n",
        "    # Convert the string to lowercase\n",
        "    s = s.lower()\n",
        "\n",
        "    # Remove non-alphanumeric characters (punctuation, spaces)\n",
        "    cleaned_s = re.sub(r'[^a-z0-9]', '', s)\n",
        "\n",
        "    # Check if the cleaned string is equal to its reverse\n",
        "    return cleaned_s == cleaned_s[::-1]\n",
        "\n",
        "# Example usage\n",
        "input_string = \"racecar\"\n",
        "print(is_palindrome(input_string))\n"
      ],
      "metadata": {
        "colab": {
          "base_uri": "https://localhost:8080/"
        },
        "id": "7me5JYXQ0HJi",
        "outputId": "68c65eb5-e63e-48ce-c20a-6b7afb310bb6"
      },
      "execution_count": 15,
      "outputs": [
        {
          "output_type": "stream",
          "name": "stdout",
          "text": [
            "True\n"
          ]
        }
      ]
    },
    {
      "cell_type": "code",
      "source": [],
      "metadata": {
        "id": "2_LDTV1j0q55"
      },
      "execution_count": null,
      "outputs": []
    }
  ]
}