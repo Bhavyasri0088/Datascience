{
  "cells": [
    {
      "cell_type": "markdown",
      "id": "cf8ad396-09ca-4b32-859d-27868abe6fc5",
      "metadata": {
        "id": "cf8ad396-09ca-4b32-859d-27868abe6fc5"
      },
      "source": [
        "Hypothesis:\n",
        "\n",
        "1. State the Hypotheses statement:"
      ]
    },
    {
      "cell_type": "code",
      "execution_count": null,
      "id": "a33d551f-41dd-49e1-ae8d-ba6c6e23647f",
      "metadata": {
        "id": "a33d551f-41dd-49e1-ae8d-ba6c6e23647f"
      },
      "outputs": [],
      "source": [
        "Hypothesis statement:\n",
        "\n",
        "# Null Hypothesis (H0): The mean weekly operating cost is equal to the predicted cost based on the current model.\n",
        "# ALternative Hypothis (H1): the mean weekly operating cost is greater than the predicted cost based on the current model.\n",
        "\n",
        "# In mathematical terms:\n",
        "\n",
        "# H0 : mu = $1000 + $5 * 600 = $4000\n",
        "# H1 : mu > $4000"
      ]
    },
    {
      "cell_type": "markdown",
      "id": "9fcc6f35-05bb-4279-9729-d9b9cc38bc4d",
      "metadata": {
        "id": "9fcc6f35-05bb-4279-9729-d9b9cc38bc4d"
      },
      "source": [
        "2. Calculate the Test Statistic:\n",
        "Use the following formula to calculate the test statistic (t):\n",
        "where:\n",
        "ˉxˉ = sample mean weekly cost (Rs. 3,050)\n",
        "μ = theoretical mean weekly cost according to the cost model (W = $1,000 + $5X for X = 600 units)\n",
        "σ = 5*25 units\n",
        "n = sample size (25 restaurants)"
      ]
    },
    {
      "cell_type": "code",
      "execution_count": null,
      "id": "aac622bb-2f03-4653-bc9d-4ac5de0583e1",
      "metadata": {
        "id": "aac622bb-2f03-4653-bc9d-4ac5de0583e1",
        "outputId": "227b76ad-2d00-4172-c855-12b2ae715982"
      },
      "outputs": [
        {
          "name": "stdout",
          "output_type": "stream",
          "text": [
            "t_statistic is: -38.0\n"
          ]
        }
      ],
      "source": [
        "import scipy.stats as stats\n",
        "import numpy as np\n",
        "import math\n",
        "\n",
        "np.random.seed(10)\n",
        "sample_size = 25\n",
        "sample_mean = 3050\n",
        "x_mean = 600\n",
        "theoretical_mean = 1000 + 5 * x_mean\n",
        "std_dev = 5 * sample_size\n",
        "\n",
        "t_statistic = ((sample_mean - theoretical_mean)/(std_dev/math.sqrt(sample_size)))\n",
        "print(\"t_statistic is:\",t_statistic)"
      ]
    },
    {
      "cell_type": "markdown",
      "id": "6588f028-57d9-40f4-bd74-10ce360347f4",
      "metadata": {
        "id": "6588f028-57d9-40f4-bd74-10ce360347f4"
      },
      "source": [
        "3. Determine the Critical Value:"
      ]
    },
    {
      "cell_type": "markdown",
      "id": "ba9814b3-9adc-4fea-8376-43a52b75aa19",
      "metadata": {
        "id": "ba9814b3-9adc-4fea-8376-43a52b75aa19"
      },
      "source": [
        "Using the alpha level of 5% (α = 0.05), determine the critical value from the standard normal (Z) distribution table."
      ]
    },
    {
      "cell_type": "code",
      "execution_count": null,
      "id": "5394ea77-eb9d-4a6d-ae75-3d1f4e848eb5",
      "metadata": {
        "id": "5394ea77-eb9d-4a6d-ae75-3d1f4e848eb5",
        "outputId": "22880843-f1e9-4cbe-e0dc-c19b0155c0a1"
      },
      "outputs": [
        {
          "name": "stdout",
          "output_type": "stream",
          "text": [
            "t_critical value: 1.7108820799094275\n"
          ]
        }
      ],
      "source": [
        "t_critical = stats.t.ppf(q = 0.95,df=24)\n",
        "print(\"t_critical value:\" ,t_critical)"
      ]
    },
    {
      "cell_type": "markdown",
      "id": "1da27806-f8de-4e0c-adf9-a67885c1ba66",
      "metadata": {
        "id": "1da27806-f8de-4e0c-adf9-a67885c1ba66"
      },
      "source": [
        "4. Make a Decision:"
      ]
    },
    {
      "cell_type": "markdown",
      "id": "bed42e20-f445-44b4-90ba-c9dad6881c0f",
      "metadata": {
        "id": "bed42e20-f445-44b4-90ba-c9dad6881c0f"
      },
      "source": [
        "Compare the test statistic with the critical value to decide whether to reject the null hypothesis."
      ]
    },
    {
      "cell_type": "code",
      "execution_count": null,
      "id": "f00194cd-955e-42b9-8d07-844d2e93b6fc",
      "metadata": {
        "id": "f00194cd-955e-42b9-8d07-844d2e93b6fc",
        "outputId": "6f1f0bd7-55be-4a54-a1b9-8193929d2c80"
      },
      "outputs": [
        {
          "name": "stdout",
          "output_type": "stream",
          "text": [
            "Fail to reject the null hypothesis\n",
            "There is insufficient evidence to suggest that the mean weekly operating cost is greaterthan the predicted cost based on the current model.\n"
          ]
        }
      ],
      "source": [
        "if t_statistic > t_critical:\n",
        "    print(\"Reject the null hypothesis\")\n",
        "    print(\"There is sufficient evidence to suggest that the mean weekly operating cost is greaterthan the predicted cost based on the current model.\")\n",
        "else:\n",
        "    print(\"Fail to reject the null hypothesis\")\n",
        "    print(\"There is insufficient evidence to suggest that the mean weekly operating cost is greaterthan the predicted cost based on the current model.\")\n",
        "\n",
        ""
      ]
    },
    {
      "cell_type": "markdown",
      "id": "d7bd11d3-1f7e-47ec-8fb0-f6a8a4738df8",
      "metadata": {
        "id": "d7bd11d3-1f7e-47ec-8fb0-f6a8a4738df8"
      },
      "source": [
        "5. Conclusion:\n",
        "Based on the decision in step 4, conclude whether there is strong evidence to support the restaurant owners' claim that the weekly operating costs are higher than the model suggests."
      ]
    },
    {
      "cell_type": "markdown",
      "id": "93c78ed4-cce5-4edf-9fd8-6a521abed638",
      "metadata": {
        "id": "93c78ed4-cce5-4edf-9fd8-6a521abed638"
      },
      "source": [
        "Since the test statistic(t)=−38 is much less than the critical value , we do not reject the null hypothesis.\n",
        "Based on the calculated test statistic, there is no strong evidence to support the restaurant owners' claim that the weekly operating costs are higher than the model suggests. In fact, the test statistic is highly negative, indicating that the observed sample mean is significantly lower than the theoretical mean according to the cost model. This result contradicts the owners' claim of higher costs."
      ]
    },
    {
      "cell_type": "markdown",
      "id": "2398a14d-cc55-4fbb-b4c9-54d2ea5ee7c7",
      "metadata": {
        "id": "2398a14d-cc55-4fbb-b4c9-54d2ea5ee7c7"
      },
      "source": [
        "##Chi-Square test"
      ]
    },
    {
      "cell_type": "markdown",
      "id": "52b02348-1f4d-4374-831d-2a9ac96d6f23",
      "metadata": {
        "id": "52b02348-1f4d-4374-831d-2a9ac96d6f23"
      },
      "source": [
        "1. State the Hypotheses:"
      ]
    },
    {
      "cell_type": "code",
      "execution_count": null,
      "id": "85737853-c125-42e1-b7a7-8b876a1350c0",
      "metadata": {
        "id": "85737853-c125-42e1-b7a7-8b876a1350c0"
      },
      "outputs": [],
      "source": [
        "Hypothesis Statement:\n",
        "\n",
        "Null Hypothesis (H₀): There is no significant association between the type of device purchased (Smart Thermostats vs. Smart Lights) and customer satisfaction level.\n",
        "                      In other words, the type of device and satisfaction level are independent.\n",
        "\n",
        "Alternative Hypothesis (H₁): There is a significant association between the type of device purchased and customer satisfaction level.\n",
        "                             In other words, the type of device and satisfaction level are not independent."
      ]
    },
    {
      "cell_type": "markdown",
      "id": "98eefa43-050f-4d34-adaa-aac4c3bb9796",
      "metadata": {
        "id": "98eefa43-050f-4d34-adaa-aac4c3bb9796"
      },
      "source": [
        "2. Compute the Chi-Square Statistic:"
      ]
    },
    {
      "cell_type": "code",
      "execution_count": null,
      "id": "e0856885-90cd-4379-b5d5-27c204df2a24",
      "metadata": {
        "id": "e0856885-90cd-4379-b5d5-27c204df2a24",
        "outputId": "0f4463be-7090-4b7f-81fc-23b0a537d4c1"
      },
      "outputs": [
        {
          "data": {
            "text/plain": [
              "600"
            ]
          },
          "execution_count": 3,
          "metadata": {},
          "output_type": "execute_result"
        }
      ],
      "source": [
        "import scipy.stats as stats\n",
        "import numpy as np\n",
        "\n",
        "observed = np.array([[50,70],[80,100],[60,90],[30,50],[20,50]])   #observed frequencies\n",
        "Total_counts = np.array([120,180,150,80,70])                      #total counts\n",
        "Total_devices = np.array([240,360])                               # total devices\n",
        "Grand_total = np.sum(Total_counts)\n",
        "Grand_total"
      ]
    },
    {
      "cell_type": "code",
      "execution_count": null,
      "id": "865c7562-8913-4c21-ad8e-2ab17797c5bf",
      "metadata": {
        "id": "865c7562-8913-4c21-ad8e-2ab17797c5bf",
        "outputId": "5b17a46d-c7d8-463d-cdc6-d590f3b0d738"
      },
      "outputs": [
        {
          "data": {
            "text/plain": [
              "array([[ 48.,  72.],\n",
              "       [ 72., 108.],\n",
              "       [ 60.,  90.],\n",
              "       [ 32.,  48.],\n",
              "       [ 28.,  42.]])"
            ]
          },
          "execution_count": 5,
          "metadata": {},
          "output_type": "execute_result"
        }
      ],
      "source": [
        "expected_frequencies = np.outer(Total_counts , Total_devices) / Grand_total   # calculate chi_square statistics\n",
        "expected_frequencies"
      ]
    },
    {
      "cell_type": "code",
      "execution_count": null,
      "id": "f9bff750-cc96-48a5-a265-ea4ae60717ff",
      "metadata": {
        "id": "f9bff750-cc96-48a5-a265-ea4ae60717ff",
        "outputId": "0ac87e94-c544-4208-9a6a-f7f64ce1f586"
      },
      "outputs": [
        {
          "data": {
            "text/plain": [
              "(5.638227513227513,\n",
              " 0.22784371130697179,\n",
              " array([[ 48.,  72.],\n",
              "        [ 72., 108.],\n",
              "        [ 60.,  90.],\n",
              "        [ 32.,  48.],\n",
              "        [ 28.,  42.]]),\n",
              " array([[ 48.,  72.],\n",
              "        [ 72., 108.],\n",
              "        [ 60.,  90.],\n",
              "        [ 32.,  48.],\n",
              "        [ 28.,  42.]]))"
            ]
          },
          "execution_count": 63,
          "metadata": {},
          "output_type": "execute_result"
        }
      ],
      "source": [
        "chi2_statistic,p_value,_,_= stats.chi2_contingency(observed,correction = False)   # compute chi_square statistics\n",
        "chi2_statistic,p_value,_,_"
      ]
    },
    {
      "cell_type": "code",
      "execution_count": null,
      "id": "e4c11349-f8b9-4083-85b2-9784267b28ba",
      "metadata": {
        "id": "e4c11349-f8b9-4083-85b2-9784267b28ba",
        "outputId": "c95ba32b-85d1-4ab0-d7c3-01e9caf4c61a"
      },
      "outputs": [
        {
          "data": {
            "text/plain": [
              "Chi2ContingencyResult(statistic=5.638227513227513, pvalue=0.22784371130697179, dof=4, expected_freq=array([[ 48.,  72.],\n",
              "       [ 72., 108.],\n",
              "       [ 60.,  90.],\n",
              "       [ 32.,  48.],\n",
              "       [ 28.,  42.]]))"
            ]
          },
          "execution_count": 7,
          "metadata": {},
          "output_type": "execute_result"
        }
      ],
      "source": [
        "stats.chi2_contingency(observed,correction = False)"
      ]
    },
    {
      "cell_type": "markdown",
      "id": "4c839236-d1af-4054-a3a6-285b65be80c7",
      "metadata": {
        "id": "4c839236-d1af-4054-a3a6-285b65be80c7"
      },
      "source": [
        "3. Determine the Critical Value:"
      ]
    },
    {
      "cell_type": "code",
      "execution_count": null,
      "id": "2ed2bbc1-f9c6-48b9-a68b-107321a95a44",
      "metadata": {
        "id": "2ed2bbc1-f9c6-48b9-a68b-107321a95a44"
      },
      "outputs": [],
      "source": [
        "alpha = 0.05\n",
        "df = (observed.shape[0]-1) * (observed.shape[1]-1)  # df = (no.of rows-1)*(no.of col-1)\n",
        "critical_value = stats.chi2.ppf(1 - alpha,df)"
      ]
    },
    {
      "cell_type": "code",
      "execution_count": null,
      "id": "4e2386ab-7575-4384-b31b-93c6f6ca47de",
      "metadata": {
        "id": "4e2386ab-7575-4384-b31b-93c6f6ca47de",
        "outputId": "72724f5b-a694-465b-b11b-74477878c23f"
      },
      "outputs": [
        {
          "data": {
            "text/plain": [
              "(5.638227513227513, 9.487729036781154, 4)"
            ]
          },
          "execution_count": 54,
          "metadata": {},
          "output_type": "execute_result"
        }
      ],
      "source": [
        "chi2_statistic, critical_value,df"
      ]
    },
    {
      "cell_type": "markdown",
      "id": "f4af2176-f544-4ef9-b69a-0d9ba2d11fbf",
      "metadata": {
        "id": "f4af2176-f544-4ef9-b69a-0d9ba2d11fbf"
      },
      "source": [
        "4. Make a Decision:\n",
        "Compare the Chi-Square statistic with the critical value to decide whether to reject the null hypothesis."
      ]
    },
    {
      "cell_type": "markdown",
      "id": "ca7a9c55-405a-4fe4-91ca-fc12a025b1f8",
      "metadata": {
        "id": "ca7a9c55-405a-4fe4-91ca-fc12a025b1f8"
      },
      "source": [
        "From the above calculations Chi-Square statistic is less than  critical value, so do not reject the null hypothesis,\n",
        "implying no significant association between the type of device and customer satisfaction level."
      ]
    }
  ],
  "metadata": {
    "kernelspec": {
      "display_name": "Python 3 (ipykernel)",
      "language": "python",
      "name": "python3"
    },
    "language_info": {
      "codemirror_mode": {
        "name": "ipython",
        "version": 3
      },
      "file_extension": ".py",
      "mimetype": "text/x-python",
      "name": "python",
      "nbconvert_exporter": "python",
      "pygments_lexer": "ipython3",
      "version": "3.12.4"
    },
    "colab": {
      "provenance": []
    }
  },
  "nbformat": 4,
  "nbformat_minor": 5
}